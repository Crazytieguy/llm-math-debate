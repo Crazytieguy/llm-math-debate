{
 "cells": [
  {
   "cell_type": "code",
   "execution_count": 1,
   "metadata": {},
   "outputs": [],
   "source": [
    "from pathlib import Path\n",
    "import json\n",
    "\n",
    "data = [json.loads(line) for line in Path(\"llama-70b-solution-classifier-test.jsonl\").read_text().splitlines()]"
   ]
  },
  {
   "cell_type": "code",
   "execution_count": 2,
   "metadata": {},
   "outputs": [],
   "source": [
    "correct = [d for d in data if d[\"is_correct\"]]\n",
    "incorrect = [d for d in data if not d[\"is_correct\"]]"
   ]
  },
  {
   "cell_type": "code",
   "execution_count": 3,
   "metadata": {},
   "outputs": [
    {
     "name": "stdout",
     "output_type": "stream",
     "text": [
      "Accuracy: 57.07%\n"
     ]
    }
   ],
   "source": [
    "print(f\"Accuracy: {len(correct) / len(data):.2%}\")"
   ]
  },
  {
   "cell_type": "code",
   "execution_count": 30,
   "metadata": {},
   "outputs": [],
   "source": [
    "from collections import defaultdict\n",
    "\n",
    "def print_accuracy_by_pred(data, pred):\n",
    "    is_correct_by_pred = defaultdict(lambda: defaultdict(int))\n",
    "    for d in data:\n",
    "        is_correct_by_pred[pred(d)][d[\"is_correct\"]] += 1\n",
    "\n",
    "    accuracy_by_category = {\n",
    "        category: counts[True] / (counts[True] + counts[False])\n",
    "        for category, counts in is_correct_by_pred.items()\n",
    "    }\n",
    "\n",
    "    for key, accuracy in sorted(accuracy_by_category.items()):\n",
    "        print(f\"{key}: {accuracy:.2%}\")"
   ]
  },
  {
   "cell_type": "code",
   "execution_count": 31,
   "metadata": {},
   "outputs": [
    {
     "name": "stdout",
     "output_type": "stream",
     "text": [
      "algebra/simplify_radicals: 68.42%\n",
      "counting_and_statistics/mean: 50.00%\n",
      "counting_and_statistics/median: 54.55%\n",
      "number_theory/gcd: 53.85%\n"
     ]
    }
   ],
   "source": [
    "print_accuracy_by_pred(data, lambda d: f\"{d['domain']}/{d['problem_class']}\")"
   ]
  },
  {
   "cell_type": "code",
   "execution_count": 32,
   "metadata": {},
   "outputs": [
    {
     "name": "stdout",
     "output_type": "stream",
     "text": [
      "1: 57.14%\n",
      "2: 63.64%\n",
      "3: 58.14%\n",
      "4: 56.52%\n",
      "5: 50.00%\n",
      "6: 75.00%\n"
     ]
    }
   ],
   "source": [
    "print_accuracy_by_pred(data, lambda d: d[\"steps\"])\n"
   ]
  },
  {
   "cell_type": "code",
   "execution_count": 33,
   "metadata": {},
   "outputs": [
    {
     "name": "stdout",
     "output_type": "stream",
     "text": [
      "has_error: 54.29%\n",
      "no_error: 60.00%\n"
     ]
    }
   ],
   "source": [
    "print_accuracy_by_pred(data, lambda d: \"has_error\" if d[\"solution_error\"] is not None else \"no_error\")"
   ]
  },
  {
   "cell_type": "code",
   "execution_count": null,
   "metadata": {},
   "outputs": [],
   "source": [
    "p = incorrect[14]\n",
    "print(p[\"problem\"], end=\"\\n\\n\")\n",
    "print(p[\"solution\"], end=\"\\n\\n\")\n",
    "print(\"Solution error:\", p[\"solution_error\"])"
   ]
  }
 ],
 "metadata": {
  "kernelspec": {
   "display_name": "base",
   "language": "python",
   "name": "python3"
  },
  "language_info": {
   "codemirror_mode": {
    "name": "ipython",
    "version": 3
   },
   "file_extension": ".py",
   "mimetype": "text/x-python",
   "name": "python",
   "nbconvert_exporter": "python",
   "pygments_lexer": "ipython3",
   "version": "3.11.5"
  }
 },
 "nbformat": 4,
 "nbformat_minor": 2
}
